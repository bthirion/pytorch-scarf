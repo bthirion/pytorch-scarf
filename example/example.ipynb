{
 "cells": [
  {
   "cell_type": "markdown",
   "metadata": {},
   "source": [
    "# Modules"
   ]
  },
  {
   "cell_type": "code",
   "execution_count": 4,
   "metadata": {},
   "outputs": [
    {
     "name": "stdout",
     "output_type": "stream",
     "text": [
      "The autoreload extension is already loaded. To reload it, use:\n",
      "  %reload_ext autoreload\n"
     ]
    }
   ],
   "source": [
    "%load_ext autoreload\n",
    "%autoreload 2\n",
    "\n",
    "import sys\n",
    "\n",
    "import matplotlib.pyplot as plt\n",
    "import pandas as pd\n",
    "import torch\n",
    "from sklearn import datasets\n",
    "from sklearn.linear_model import LogisticRegression\n",
    "from sklearn.metrics import (ConfusionMatrixDisplay, classification_report,\n",
    "                             confusion_matrix)\n",
    "from sklearn.model_selection import train_test_split\n",
    "from sklearn.preprocessing import StandardScaler\n",
    "from torch.optim import Adam\n",
    "from torch.utils.data import DataLoader\n",
    "\n",
    "sys.path.append(\"../\")\n",
    "\n",
    "from example.dataset import ExampleDataset\n",
    "from example.utils import dataset_embeddings, fix_seed, train_epoch\n",
    "from scarf.loss import NTXent\n",
    "from scarf.model import SCARF\n",
    "\n",
    "seed = 1234\n",
    "fix_seed(seed)"
   ]
  },
  {
   "cell_type": "markdown",
   "metadata": {},
   "source": [
    "# Data"
   ]
  },
  {
   "cell_type": "code",
   "execution_count": 6,
   "metadata": {},
   "outputs": [
    {
     "name": "stdout",
     "output_type": "stream",
     "text": [
      "Train set: (455, 30)\n",
      "Test set: (114, 30)\n"
     ]
    },
    {
     "data": {
      "text/html": [
       "<div>\n",
       "<style scoped>\n",
       "    .dataframe tbody tr th:only-of-type {\n",
       "        vertical-align: middle;\n",
       "    }\n",
       "\n",
       "    .dataframe tbody tr th {\n",
       "        vertical-align: top;\n",
       "    }\n",
       "\n",
       "    .dataframe thead th {\n",
       "        text-align: right;\n",
       "    }\n",
       "</style>\n",
       "<table border=\"1\" class=\"dataframe\">\n",
       "  <thead>\n",
       "    <tr style=\"text-align: right;\">\n",
       "      <th></th>\n",
       "      <th>mean radius</th>\n",
       "      <th>mean texture</th>\n",
       "      <th>mean perimeter</th>\n",
       "      <th>mean area</th>\n",
       "      <th>mean smoothness</th>\n",
       "      <th>mean compactness</th>\n",
       "      <th>mean concavity</th>\n",
       "      <th>mean concave points</th>\n",
       "      <th>mean symmetry</th>\n",
       "      <th>mean fractal dimension</th>\n",
       "      <th>...</th>\n",
       "      <th>worst radius</th>\n",
       "      <th>worst texture</th>\n",
       "      <th>worst perimeter</th>\n",
       "      <th>worst area</th>\n",
       "      <th>worst smoothness</th>\n",
       "      <th>worst compactness</th>\n",
       "      <th>worst concavity</th>\n",
       "      <th>worst concave points</th>\n",
       "      <th>worst symmetry</th>\n",
       "      <th>worst fractal dimension</th>\n",
       "    </tr>\n",
       "  </thead>\n",
       "  <tbody>\n",
       "    <tr>\n",
       "      <th>0</th>\n",
       "      <td>-0.880353</td>\n",
       "      <td>-1.008502</td>\n",
       "      <td>-0.851600</td>\n",
       "      <td>-0.803450</td>\n",
       "      <td>0.528820</td>\n",
       "      <td>-0.257291</td>\n",
       "      <td>-0.443192</td>\n",
       "      <td>-0.407671</td>\n",
       "      <td>-0.129007</td>\n",
       "      <td>0.896290</td>\n",
       "      <td>...</td>\n",
       "      <td>-0.912743</td>\n",
       "      <td>-0.956058</td>\n",
       "      <td>-0.829103</td>\n",
       "      <td>-0.782999</td>\n",
       "      <td>0.427404</td>\n",
       "      <td>-0.216693</td>\n",
       "      <td>-0.214409</td>\n",
       "      <td>-0.123639</td>\n",
       "      <td>0.672669</td>\n",
       "      <td>0.366357</td>\n",
       "    </tr>\n",
       "    <tr>\n",
       "      <th>1</th>\n",
       "      <td>0.248449</td>\n",
       "      <td>1.482635</td>\n",
       "      <td>0.225824</td>\n",
       "      <td>0.152201</td>\n",
       "      <td>0.462742</td>\n",
       "      <td>-0.130230</td>\n",
       "      <td>0.414654</td>\n",
       "      <td>0.411382</td>\n",
       "      <td>-0.597113</td>\n",
       "      <td>0.266727</td>\n",
       "      <td>...</td>\n",
       "      <td>0.448496</td>\n",
       "      <td>1.198785</td>\n",
       "      <td>0.395258</td>\n",
       "      <td>0.279837</td>\n",
       "      <td>1.500623</td>\n",
       "      <td>-0.122839</td>\n",
       "      <td>0.611302</td>\n",
       "      <td>0.570670</td>\n",
       "      <td>-0.405498</td>\n",
       "      <td>0.563031</td>\n",
       "    </tr>\n",
       "    <tr>\n",
       "      <th>2</th>\n",
       "      <td>-1.345070</td>\n",
       "      <td>0.549036</td>\n",
       "      <td>-1.334836</td>\n",
       "      <td>-1.089839</td>\n",
       "      <td>0.609582</td>\n",
       "      <td>-0.812806</td>\n",
       "      <td>-0.856507</td>\n",
       "      <td>-0.939086</td>\n",
       "      <td>0.774546</td>\n",
       "      <td>0.461423</td>\n",
       "      <td>...</td>\n",
       "      <td>-1.133763</td>\n",
       "      <td>0.878470</td>\n",
       "      <td>-1.154989</td>\n",
       "      <td>-0.923432</td>\n",
       "      <td>0.906361</td>\n",
       "      <td>-0.870453</td>\n",
       "      <td>-1.018594</td>\n",
       "      <td>-1.198201</td>\n",
       "      <td>-0.042221</td>\n",
       "      <td>-0.059954</td>\n",
       "    </tr>\n",
       "    <tr>\n",
       "      <th>3</th>\n",
       "      <td>-0.139050</td>\n",
       "      <td>-0.389184</td>\n",
       "      <td>-0.190352</td>\n",
       "      <td>-0.253539</td>\n",
       "      <td>0.249823</td>\n",
       "      <td>-0.472841</td>\n",
       "      <td>-0.547939</td>\n",
       "      <td>-0.453825</td>\n",
       "      <td>-0.288671</td>\n",
       "      <td>-0.267620</td>\n",
       "      <td>...</td>\n",
       "      <td>-0.284796</td>\n",
       "      <td>-0.368815</td>\n",
       "      <td>-0.355786</td>\n",
       "      <td>-0.353509</td>\n",
       "      <td>-0.543816</td>\n",
       "      <td>-0.772100</td>\n",
       "      <td>-0.480259</td>\n",
       "      <td>-0.381195</td>\n",
       "      <td>-0.632129</td>\n",
       "      <td>-0.798305</td>\n",
       "    </tr>\n",
       "    <tr>\n",
       "      <th>4</th>\n",
       "      <td>1.054334</td>\n",
       "      <td>0.158496</td>\n",
       "      <td>0.884228</td>\n",
       "      <td>0.892295</td>\n",
       "      <td>-0.886724</td>\n",
       "      <td>-0.706354</td>\n",
       "      <td>-0.209267</td>\n",
       "      <td>0.167349</td>\n",
       "      <td>1.151934</td>\n",
       "      <td>-1.778288</td>\n",
       "      <td>...</td>\n",
       "      <td>0.876078</td>\n",
       "      <td>0.326818</td>\n",
       "      <td>0.631622</td>\n",
       "      <td>0.647473</td>\n",
       "      <td>-1.107034</td>\n",
       "      <td>-0.864668</td>\n",
       "      <td>-0.238274</td>\n",
       "      <td>0.045704</td>\n",
       "      <td>3.307260</td>\n",
       "      <td>-1.264719</td>\n",
       "    </tr>\n",
       "  </tbody>\n",
       "</table>\n",
       "<p>5 rows × 30 columns</p>\n",
       "</div>"
      ],
      "text/plain": [
       "   mean radius  mean texture  mean perimeter  mean area  mean smoothness  \\\n",
       "0    -0.880353     -1.008502       -0.851600  -0.803450         0.528820   \n",
       "1     0.248449      1.482635        0.225824   0.152201         0.462742   \n",
       "2    -1.345070      0.549036       -1.334836  -1.089839         0.609582   \n",
       "3    -0.139050     -0.389184       -0.190352  -0.253539         0.249823   \n",
       "4     1.054334      0.158496        0.884228   0.892295        -0.886724   \n",
       "\n",
       "   mean compactness  mean concavity  mean concave points  mean symmetry  \\\n",
       "0         -0.257291       -0.443192            -0.407671      -0.129007   \n",
       "1         -0.130230        0.414654             0.411382      -0.597113   \n",
       "2         -0.812806       -0.856507            -0.939086       0.774546   \n",
       "3         -0.472841       -0.547939            -0.453825      -0.288671   \n",
       "4         -0.706354       -0.209267             0.167349       1.151934   \n",
       "\n",
       "   mean fractal dimension  ...  worst radius  worst texture  worst perimeter  \\\n",
       "0                0.896290  ...     -0.912743      -0.956058        -0.829103   \n",
       "1                0.266727  ...      0.448496       1.198785         0.395258   \n",
       "2                0.461423  ...     -1.133763       0.878470        -1.154989   \n",
       "3               -0.267620  ...     -0.284796      -0.368815        -0.355786   \n",
       "4               -1.778288  ...      0.876078       0.326818         0.631622   \n",
       "\n",
       "   worst area  worst smoothness  worst compactness  worst concavity  \\\n",
       "0   -0.782999          0.427404          -0.216693        -0.214409   \n",
       "1    0.279837          1.500623          -0.122839         0.611302   \n",
       "2   -0.923432          0.906361          -0.870453        -1.018594   \n",
       "3   -0.353509         -0.543816          -0.772100        -0.480259   \n",
       "4    0.647473         -1.107034          -0.864668        -0.238274   \n",
       "\n",
       "   worst concave points  worst symmetry  worst fractal dimension  \n",
       "0             -0.123639        0.672669                 0.366357  \n",
       "1              0.570670       -0.405498                 0.563031  \n",
       "2             -1.198201       -0.042221                -0.059954  \n",
       "3             -0.381195       -0.632129                -0.798305  \n",
       "4              0.045704        3.307260                -1.264719  \n",
       "\n",
       "[5 rows x 30 columns]"
      ]
     },
     "execution_count": 6,
     "metadata": {},
     "output_type": "execute_result"
    }
   ],
   "source": [
    "data = datasets.load_breast_cancer(as_frame=True)\n",
    "data, target = data[\"data\"], data[\"target\"]\n",
    "train_data, test_data, train_target, test_target = train_test_split(\n",
    "    data, \n",
    "    target, \n",
    "    test_size=0.2, \n",
    "    stratify=target, \n",
    "    random_state=seed\n",
    ")\n",
    "\n",
    "# preprocess\n",
    "constant_cols = [c for c in train_data.columns if train_data[c].nunique() == 1]\n",
    "train_data.drop(columns=constant_cols, inplace=True)\n",
    "test_data.drop(columns=constant_cols, inplace=True)\n",
    "\n",
    "scaler = StandardScaler()\n",
    "train_data = pd.DataFrame(scaler.fit_transform(train_data), columns=train_data.columns)\n",
    "test_data = pd.DataFrame(scaler.transform(test_data), columns=test_data.columns)\n",
    "\n",
    "# to torch dataset\n",
    "train_ds = ExampleDataset(\n",
    "    train_data.to_numpy(), \n",
    "    train_target.to_numpy(), \n",
    "    columns=train_data.columns\n",
    ")\n",
    "test_ds = ExampleDataset(\n",
    "    test_data.to_numpy(), \n",
    "    test_data.to_numpy(), \n",
    "    columns=test_data.columns\n",
    ")\n",
    "\n",
    "print(f\"Train set: {train_ds.shape}\")\n",
    "print(f\"Test set: {test_ds.shape}\")\n",
    "train_ds.to_dataframe().head()"
   ]
  },
  {
   "cell_type": "markdown",
   "metadata": {},
   "source": [
    "# Training"
   ]
  },
  {
   "cell_type": "code",
   "execution_count": 41,
   "metadata": {},
   "outputs": [
    {
     "name": "stderr",
     "output_type": "stream",
     "text": [
      "                                                                    \r"
     ]
    }
   ],
   "source": [
    "batch_size = 128\n",
    "epochs = 10_000\n",
    "device = torch.device(\"cuda\" if torch.cuda.is_available() else \"cpu\")\n",
    "\n",
    "train_loader = DataLoader(train_ds, batch_size=batch_size, shuffle=True)\n",
    "\n",
    "model = SCARF(\n",
    "    input_dim=train_ds.shape[1], \n",
    "    emb_dim=16,\n",
    "    corruption_rate=0.6,\n",
    ").to(device)\n",
    "optimizer = Adam(model.parameters(), lr=0.001)\n",
    "ntxent_loss = NTXent()\n",
    "\n",
    "loss_history = []\n",
    "\n",
    "for epoch in range(1, epochs + 1):\n",
    "    epoch_loss = train_epoch(model, ntxent_loss, train_loader, optimizer, device, epoch)\n",
    "    loss_history.append(epoch_loss)\n"
   ]
  },
  {
   "cell_type": "code",
   "execution_count": 42,
   "metadata": {},
   "outputs": [
    {
     "data": {
      "text/plain": [
       "Text(0, 0.5, 'loss')"
      ]
     },
     "execution_count": 42,
     "metadata": {},
     "output_type": "execute_result"
    },
    {
     "data": {
      "image/png": "[encoded data removed]",
      "text/plain": [
       "<Figure size 1152x576 with 1 Axes>"
      ]
     },
     "metadata": {
      "needs_background": "light"
     },
     "output_type": "display_data"
    }
   ],
   "source": [
    "fig, ax = plt.subplots(figsize=(16, 8))\n",
    "ax.plot(loss_history)\n",
    "ax.set_xlabel(\"epoch\")\n",
    "ax.set_ylabel(\"loss\")"
   ]
  },
  {
   "cell_type": "markdown",
   "metadata": {},
   "source": [
    "# Evaluate embeddings"
   ]
  },
  {
   "cell_type": "code",
   "execution_count": 43,
   "metadata": {},
   "outputs": [
    {
     "name": "stderr",
     "output_type": "stream",
     "text": [
      "100%|██████████| 4/4 [00:00<00:00, 370.07it/s]\n",
      "100%|██████████| 1/1 [00:00<00:00, 200.17it/s]"
     ]
    },
    {
     "name": "stdout",
     "output_type": "stream",
     "text": [
      "(455, 16)\n",
      "(114, 16)\n"
     ]
    },
    {
     "name": "stderr",
     "output_type": "stream",
     "text": [
      "\n"
     ]
    }
   ],
   "source": [
    "train_loader = DataLoader(train_ds, batch_size=batch_size, shuffle=False)\n",
    "test_loader = DataLoader(test_ds, batch_size=batch_size, shuffle=False)\n",
    "\n",
    "# get embeddings for training and test set\n",
    "train_embeddings = dataset_embeddings(model, train_loader, device)\n",
    "test_embeddings = dataset_embeddings(model, test_loader, device)\n",
    "\n",
    "print(train_embeddings.shape)\n",
    "print(test_embeddings.shape)"
   ]
  },
  {
   "cell_type": "code",
   "execution_count": 44,
   "metadata": {},
   "outputs": [
    {
     "name": "stdout",
     "output_type": "stream",
     "text": [
      "              precision    recall  f1-score   support\n",
      "\n",
      "           0       0.98      0.98      0.98        42\n",
      "           1       0.99      0.99      0.99        72\n",
      "\n",
      "    accuracy                           0.98       114\n",
      "   macro avg       0.98      0.98      0.98       114\n",
      "weighted avg       0.98      0.98      0.98       114\n",
      "\n"
     ]
    },
    {
     "data": {
      "text/plain": [
       "<sklearn.metrics._plot.confusion_matrix.ConfusionMatrixDisplay at 0x17d23b460>"
      ]
     },
     "execution_count": 44,
     "metadata": {},
     "output_type": "execute_result"
    },
    {
     "data": {
      "image/png": "[encoded data removed]",
      "text/plain": [
       "<Figure size 576x576 with 2 Axes>"
      ]
     },
     "metadata": {
      "needs_background": "light"
     },
     "output_type": "display_data"
    }
   ],
   "source": [
    "clf = LogisticRegression()\n",
    "\n",
    "# vanilla dataset: train the classifier on the original data\n",
    "clf.fit(train_data, train_target)\n",
    "vanilla_predictions = clf.predict(test_data)\n",
    "\n",
    "print(classification_report(test_target, vanilla_predictions))\n",
    "cm = confusion_matrix(test_target, vanilla_predictions)\n",
    "disp = ConfusionMatrixDisplay(confusion_matrix=cm)\n",
    "\n",
    "fig, ax = plt.subplots(figsize=(8, 8))\n",
    "disp.plot(ax=ax)"
   ]
  },
  {
   "cell_type": "code",
   "execution_count": 45,
   "metadata": {},
   "outputs": [
    {
     "name": "stdout",
     "output_type": "stream",
     "text": [
      "              precision    recall  f1-score   support\n",
      "\n",
      "           0       0.97      0.93      0.95        42\n",
      "           1       0.96      0.99      0.97        72\n",
      "\n",
      "    accuracy                           0.96       114\n",
      "   macro avg       0.97      0.96      0.96       114\n",
      "weighted avg       0.97      0.96      0.96       114\n",
      "\n"
     ]
    },
    {
     "data": {
      "text/plain": [
       "<sklearn.metrics._plot.confusion_matrix.ConfusionMatrixDisplay at 0x17d125b10>"
      ]
     },
     "execution_count": 45,
     "metadata": {},
     "output_type": "execute_result"
    },
    {
     "data": {
      "image/png": "[encoded data removed]",
      "text/plain": [
       "<Figure size 576x576 with 2 Axes>"
      ]
     },
     "metadata": {
      "needs_background": "light"
     },
     "output_type": "display_data"
    }
   ],
   "source": [
    "# embeddings dataset: train the classifier on the embeddings\n",
    "clf.fit(train_embeddings, train_target)\n",
    "vanilla_predictions = clf.predict(test_embeddings)\n",
    "\n",
    "print(classification_report(test_target, vanilla_predictions))\n",
    "cm = confusion_matrix(test_target, vanilla_predictions)\n",
    "disp = ConfusionMatrixDisplay(confusion_matrix=cm)\n",
    "\n",
    "fig, ax = plt.subplots(figsize=(8, 8))\n",
    "disp.plot(ax=ax)"
   ]
  },
  {
   "cell_type": "markdown",
   "metadata": {},
   "source": [
    "# Visualzie using t-sne "
   ]
  },
  {
   "cell_type": "code",
   "execution_count": 49,
   "metadata": {},
   "outputs": [
    {
     "name": "stderr",
     "output_type": "stream",
     "text": [
      "/usr/local/Caskroom/mambaforge/base/envs/scarf/lib/python3.10/site-packages/sklearn/manifold/_t_sne.py:991: FutureWarning: The PCA initialization in TSNE will change to have the standard deviation of PC1 equal to 1e-4 in 1.2. This will ensure better convergence.\n",
      "  warnings.warn(\n"
     ]
    },
    {
     "data": {
      "text/plain": [
       "<matplotlib.legend.Legend at 0x17d1c7040>"
      ]
     },
     "execution_count": 49,
     "metadata": {},
     "output_type": "execute_result"
    },
    {
     "data": {
      "image/png": "[encoded data removed]",
      "text/plain": [
       "<Figure size 576x576 with 1 Axes>"
      ]
     },
     "metadata": {
      "needs_background": "light"
     },
     "output_type": "display_data"
    }
   ],
   "source": [
    "# Visualiaze\n",
    "\n",
    "from sklearn.manifold import TSNE\n",
    "\n",
    "tsne = TSNE(n_components=2, learning_rate=\"auto\", init=\"pca\", perplexity=10)\n",
    "reduced = tsne.fit_transform(train_embeddings)\n",
    "positive = train_target == 1\n",
    "\n",
    "fig, ax = plt.subplots(figsize=(8, 8))\n",
    "\n",
    "ax.scatter(reduced[positive, 0], reduced[positive, 1], label=\"positive\")\n",
    "ax.scatter(reduced[~positive, 0], reduced[~positive, 1], label=\"negative\")\n",
    "plt.legend()"
   ]
  },
  {
   "cell_type": "code",
   "execution_count": null,
   "metadata": {},
   "outputs": [],
   "source": []
  }
 ],
 "metadata": {
  "kernelspec": {
   "display_name": "Python 3.10.5 ('scarf')",
   "language": "python",
   "name": "python3"
  },
  "language_info": {
   "codemirror_mode": {
    "name": "ipython",
    "version": 3
   },
   "file_extension": ".py",
   "mimetype": "text/x-python",
   "name": "python",
   "nbconvert_exporter": "python",
   "pygments_lexer": "ipython3",
   "version": "3.10.5"
  },
  "orig_nbformat": 4,
  "vscode": {
   "interpreter": {
    "hash": "c6f9f5a3811a03e662921c74ed1d00f88796bf20e69187cb766d7acffcc397b8"
   }
  }
 },
 "nbformat": 4,
 "nbformat_minor": 2
}
